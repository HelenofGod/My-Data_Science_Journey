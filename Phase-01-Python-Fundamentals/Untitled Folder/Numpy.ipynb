{
 "cells": [
  {
   "cell_type": "code",
   "execution_count": 3,
   "id": "85eee719",
   "metadata": {},
   "outputs": [],
   "source": [
    "!pip install  numpy --quiet"
   ]
  },
  {
   "cell_type": "code",
   "execution_count": 4,
   "id": "ccc4d21d",
   "metadata": {},
   "outputs": [],
   "source": [
    "import numpy as np"
   ]
  },
  {
   "cell_type": "code",
   "execution_count": 5,
   "id": "28e4e319",
   "metadata": {},
   "outputs": [],
   "source": [
    "x = [10,20,30,40]"
   ]
  },
  {
   "cell_type": "code",
   "execution_count": 6,
   "id": "a710fd28",
   "metadata": {},
   "outputs": [],
   "source": [
    "arr1 = np.array(x)"
   ]
  },
  {
   "cell_type": "code",
   "execution_count": 7,
   "id": "eb260d41",
   "metadata": {},
   "outputs": [
    {
     "data": {
      "text/plain": [
       "array([10, 20, 30, 40])"
      ]
     },
     "execution_count": 7,
     "metadata": {},
     "output_type": "execute_result"
    }
   ],
   "source": [
    "arr1"
   ]
  },
  {
   "cell_type": "markdown",
   "id": "ca54953b",
   "metadata": {},
   "source": []
  },
  {
   "cell_type": "code",
   "execution_count": 1,
   "id": "44224f6f",
   "metadata": {},
   "outputs": [
    {
     "data": {
      "text/plain": [
       "4"
      ]
     },
     "execution_count": 1,
     "metadata": {},
     "output_type": "execute_result"
    }
   ],
   "source": [
    "arr2 = ([[1,2,3],[4,5,6],][11,15,20]])"
   ]
  },
  {
   "cell_type": "code",
   "execution_count": null,
   "id": "458e9aa9",
   "metadata": {},
   "outputs": [],
   "source": [
    "import matplotlib.pyplot as pit\n",
    "import seaborn as sns "
   ]
  },
  {
   "cell_type": "code",
   "execution_count": null,
   "id": "9a6df016",
   "metadata": {},
   "outputs": [],
   "source": [
    "apples_yield [8.895, 0.91, 0.919, 0.926, 0.931, 0.928]\n",
    "oranges_yield [0.99, 0.978, 0.985, 0.908, 0.889, 0.878]"
   ]
  },
  {
   "cell_type": "code",
   "execution_count": null,
   "id": "3da73c06",
   "metadata": {},
   "outputs": [],
   "source": [
    "plt.plot(years, apples_yield, 's-b')\n",
    "plt.plot(years, oranges_yield, 'o--')\n",
    "plt.xlabel('Years')\n",
    "plt.ylabel('Yields (Tons)')\n",
    "plt.title('Yearly yield rate of Apple and Oranges')\n",
    "plt.legend(['apple', 'orange'])\n",
    "plt.show()"
   ]
  },
  {
   "cell_type": "code",
   "execution_count": null,
   "id": "c44b9833",
   "metadata": {},
   "outputs": [],
   "source": [
    "plt.show()"
   ]
  },
  {
   "cell_type": "code",
   "execution_count": null,
   "id": "15c1b323",
   "metadata": {},
   "outputs": [],
   "source": [
    "df= sns.load_dataset('tips')"
   ]
  },
  {
   "cell_type": "code",
   "execution_count": null,
   "id": "b5305b8c",
   "metadata": {},
   "outputs": [],
   "source": [
    "df.head()"
   ]
  },
  {
   "cell_type": "code",
   "execution_count": null,
   "id": "d7e5fffc",
   "metadata": {},
   "outputs": [],
   "source": [
    "df.shape"
   ]
  },
  {
   "cell_type": "code",
   "execution_count": null,
   "id": "d0537f52",
   "metadata": {},
   "outputs": [],
   "source": [
    "import warnings\n",
    "warnings.filterwarnings('ignore')"
   ]
  },
  {
   "cell_type": "code",
   "execution_count": null,
   "id": "417fb40c",
   "metadata": {},
   "outputs": [],
   "source": [
    "tips_sum = df.groupby('day')['tip'].sum()"
   ]
  },
  {
   "cell_type": "code",
   "execution_count": null,
   "id": "60eb90d3",
   "metadata": {},
   "outputs": [],
   "source": []
  }
 ],
 "metadata": {
  "kernelspec": {
   "display_name": "Python 3 (ipykernel)",
   "language": "python",
   "name": "python3"
  },
  "language_info": {
   "codemirror_mode": {
    "name": "ipython",
    "version": 3
   },
   "file_extension": ".py",
   "mimetype": "text/x-python",
   "name": "python",
   "nbconvert_exporter": "python",
   "pygments_lexer": "ipython3",
   "version": "3.9.13"
  }
 },
 "nbformat": 4,
 "nbformat_minor": 5
}
