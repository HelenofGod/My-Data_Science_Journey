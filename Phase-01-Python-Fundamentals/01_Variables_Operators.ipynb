{
 "cells": [
  {
   "cell_type": "markdown",
   "id": "52c48c0b",
   "metadata": {},
   "source": [
    "# Variables\n",
    "This is a Container of data. It stores values in a variable. This helps python to remember as against just executing a value. "
   ]
  },
  {
   "cell_type": "code",
   "execution_count": 18,
   "id": "ecd51247",
   "metadata": {},
   "outputs": [],
   "source": [
    "#ALLOWED ✅ \n",
    "# Rules for naming variables\n",
    "#* Must start with a letter (A-Z)\n",
    "# * Can contain letters, numbers (0-9), and underscores\n",
    "# * Case sensitive (Name and name are different)\n",
    "#NOT ALLOWED ❌\n",
    "# * Cannot start with a number \n",
    "# * Cannot take special character\n",
    "# * Cannot be a reserved keyword (e.g class, diff, if)\n"
   ]
  },
  {
   "cell_type": "code",
   "execution_count": 15,
   "id": "0a7c6d3c",
   "metadata": {},
   "outputs": [],
   "source": [
    "x=10 #x here is a variable that stores the value 10\n",
    "#10 here is an integer"
   ]
  },
  {
   "cell_type": "code",
   "execution_count": 4,
   "id": "9e3dc526",
   "metadata": {},
   "outputs": [
    {
     "data": {
      "text/plain": [
       "10"
      ]
     },
     "execution_count": 4,
     "metadata": {},
     "output_type": "execute_result"
    }
   ],
   "source": [
    "x"
   ]
  },
  {
   "cell_type": "code",
   "execution_count": null,
   "id": "f2678341",
   "metadata": {},
   "outputs": [],
   "source": []
  },
  {
   "cell_type": "code",
   "execution_count": null,
   "id": "6cdc6f42",
   "metadata": {},
   "outputs": [],
   "source": []
  },
  {
   "cell_type": "markdown",
   "id": "abe711ee",
   "metadata": {},
   "source": [
    "## Strings /Object \n",
    "I used escape+2 to get heading 2"
   ]
  },
  {
   "cell_type": "code",
   "execution_count": 6,
   "id": "41f0adf2",
   "metadata": {},
   "outputs": [],
   "source": [
    "y=\"hello python\" #hello python is a string/text/object means the same in python "
   ]
  },
  {
   "cell_type": "code",
   "execution_count": 7,
   "id": "831a3c15",
   "metadata": {},
   "outputs": [
    {
     "data": {
      "text/plain": [
       "'hello python'"
      ]
     },
     "execution_count": 7,
     "metadata": {},
     "output_type": "execute_result"
    }
   ],
   "source": [
    "y"
   ]
  },
  {
   "cell_type": "code",
   "execution_count": 17,
   "id": "61cc73e7",
   "metadata": {},
   "outputs": [],
   "source": [
    "z= 3.14 # 3.14 is a floating point"
   ]
  },
  {
   "cell_type": "code",
   "execution_count": 9,
   "id": "e0e986b8",
   "metadata": {},
   "outputs": [
    {
     "data": {
      "text/plain": [
       "3.14"
      ]
     },
     "execution_count": 9,
     "metadata": {},
     "output_type": "execute_result"
    }
   ],
   "source": [
    "z"
   ]
  },
  {
   "cell_type": "code",
   "execution_count": 16,
   "id": "9292b84b",
   "metadata": {},
   "outputs": [
    {
     "data": {
      "text/plain": [
       "13.14"
      ]
     },
     "execution_count": 16,
     "metadata": {},
     "output_type": "execute_result"
    }
   ],
   "source": [
    "x + z "
   ]
  },
  {
   "cell_type": "markdown",
   "id": "98cf1cd0",
   "metadata": {},
   "source": [
    "### Naming Convention \n",
    "case Styles in Python, python doesnt recognice (spaces in variable name)\n",
    "(This is in-line documentation), writing comments inside a code\n",
    "There are several techniques you can use to make them more readable:\n",
    "Camel Case. Each word, except the first, starts with a capital letter: \n",
    "myVariableName = \"John\"\n",
    "Pascal Case. Each word starts with a capital letter: \n",
    "MyVariableName = \"John\"\n",
    "\n",
    "Snake Case. Each word is separated by an underscore character: \n",
    "My_Variable_Name = \"John\"\n"
   ]
  },
  {
   "cell_type": "code",
   "execution_count": 21,
   "id": "62e42eb7",
   "metadata": {},
   "outputs": [],
   "source": [
    "#Multiple Variable Assignment: this is assigning same value to different variables. e.g \n",
    "num1 = num2 = num3 = 100"
   ]
  },
  {
   "cell_type": "code",
   "execution_count": 22,
   "id": "ce6face2",
   "metadata": {},
   "outputs": [
    {
     "data": {
      "text/plain": [
       "(100, 100, 100)"
      ]
     },
     "execution_count": 22,
     "metadata": {},
     "output_type": "execute_result"
    }
   ],
   "source": [
    "num1 , num2, num3, "
   ]
  },
  {
   "cell_type": "code",
   "execution_count": 23,
   "id": "93a7af18",
   "metadata": {},
   "outputs": [],
   "source": [
    "#DIFFERENT VALUES TO DIFF VARIABLES\n",
    "x, y, z = 100, 200, 45 "
   ]
  },
  {
   "cell_type": "code",
   "execution_count": 24,
   "id": "3f461a7e",
   "metadata": {},
   "outputs": [
    {
     "data": {
      "text/plain": [
       "45"
      ]
     },
     "execution_count": 24,
     "metadata": {},
     "output_type": "execute_result"
    }
   ],
   "source": [
    "z"
   ]
  },
  {
   "cell_type": "code",
   "execution_count": 25,
   "id": "ab9cc9d3",
   "metadata": {},
   "outputs": [
    {
     "data": {
      "text/plain": [
       "200"
      ]
     },
     "execution_count": 25,
     "metadata": {},
     "output_type": "execute_result"
    }
   ],
   "source": [
    "y"
   ]
  },
  {
   "cell_type": "code",
   "execution_count": 26,
   "id": "cbfc95cd",
   "metadata": {},
   "outputs": [
    {
     "data": {
      "text/plain": [
       "100"
      ]
     },
     "execution_count": 26,
     "metadata": {},
     "output_type": "execute_result"
    }
   ],
   "source": [
    "x"
   ]
  },
  {
   "cell_type": "code",
   "execution_count": 27,
   "id": "f137ca8e",
   "metadata": {},
   "outputs": [
    {
     "data": {
      "text/plain": [
       "(100, 200, 45)"
      ]
     },
     "execution_count": 27,
     "metadata": {},
     "output_type": "execute_result"
    }
   ],
   "source": [
    "x, y, z "
   ]
  },
  {
   "cell_type": "code",
   "execution_count": 35,
   "id": "cf396dd1",
   "metadata": {},
   "outputs": [
    {
     "name": "stdout",
     "output_type": "stream",
     "text": [
      "45\n"
     ]
    }
   ],
   "source": [
    "print (z) #this is print funtion which is a method is used to print a given message to \n",
    "#the screen or to display an object's value on the terminal\n"
   ]
  },
  {
   "cell_type": "code",
   "execution_count": 29,
   "id": "8d22ab92",
   "metadata": {},
   "outputs": [
    {
     "name": "stdout",
     "output_type": "stream",
     "text": [
      "Hello! I am Feyi\n"
     ]
    }
   ],
   "source": [
    "#Printing text \n",
    "print (\"Hello! I am Feyi\")\n",
    "#However, you cannot use 3 aprostrophes in print fun e.g print('Hello I'm Feyi), \n",
    "#it will return syntax error, you either use double aprostophe \"\""
   ]
  },
  {
   "cell_type": "code",
   "execution_count": 30,
   "id": "258af25b",
   "metadata": {},
   "outputs": [
    {
     "name": "stdout",
     "output_type": "stream",
     "text": [
      "Hello I'm Feyi\n"
     ]
    }
   ],
   "source": [
    "print (\"Hello I'm Feyi\")"
   ]
  },
  {
   "cell_type": "code",
   "execution_count": 11,
   "id": "86cdc77e",
   "metadata": {},
   "outputs": [
    {
     "name": "stdout",
     "output_type": "stream",
     "text": [
      "Feyi said, \"I am a girl\"\n"
     ]
    }
   ],
   "source": [
    "print ('Feyi said, \"I am a girl\"')"
   ]
  },
  {
   "cell_type": "code",
   "execution_count": 32,
   "id": "b99a0408",
   "metadata": {},
   "outputs": [
    {
     "name": "stdout",
     "output_type": "stream",
     "text": [
      "8065003567\n"
     ]
    }
   ],
   "source": [
    "# printing Number\n",
    "#No need to enclose with aprostrophe e.g \n",
    "print (8065003567)"
   ]
  },
  {
   "cell_type": "code",
   "execution_count": 15,
   "id": "d6c6de57",
   "metadata": {},
   "outputs": [],
   "source": [
    "#Printing Variables \n",
    "name = \"Feyi\"\n",
    "age = 28"
   ]
  },
  {
   "cell_type": "code",
   "execution_count": 18,
   "id": "954091ae",
   "metadata": {},
   "outputs": [
    {
     "name": "stdout",
     "output_type": "stream",
     "text": [
      "Feyi,28\n"
     ]
    }
   ],
   "source": [
    "print (name, age, sep=',')"
   ]
  },
  {
   "cell_type": "code",
   "execution_count": 19,
   "id": "09928145",
   "metadata": {},
   "outputs": [
    {
     "name": "stdout",
     "output_type": "stream",
     "text": [
      "Feyi-28\n"
     ]
    }
   ],
   "source": [
    "print(name, age, sep='-')"
   ]
  },
  {
   "cell_type": "code",
   "execution_count": 20,
   "id": "145fdbef",
   "metadata": {},
   "outputs": [],
   "source": [
    "my_class = \"python class\""
   ]
  },
  {
   "cell_type": "code",
   "execution_count": 38,
   "id": "877996b9",
   "metadata": {},
   "outputs": [
    {
     "name": "stdout",
     "output_type": "stream",
     "text": [
      "This is my first python class\n"
     ]
    }
   ],
   "source": [
    "print ('This is my first', my_class)"
   ]
  },
  {
   "cell_type": "markdown",
   "id": "4ef778b8",
   "metadata": {},
   "source": [
    "####  Using Sep Parameter \n",
    "The sep parameter allows you to specify a string that will be used to separate the items being printed by the print() function. By default, the sep parameter is set to a single space character. which means that the items being printed will be separated by a single space e.g (,:, )\n",
    "\n",
    "The sep parameter is used when you pass in more than one argument to print() like: print(\"some string\", \"some other string\", sep=\".\n",
    "\n",
    "It is an optional parameter in the print() function and is used to separate different objects to be printed"
   ]
  },
  {
   "cell_type": "code",
   "execution_count": null,
   "id": "3479979d",
   "metadata": {},
   "outputs": [],
   "source": [
    "#print () has an argument, separator, end line, fileNone, flushFalse\n",
    "# shift+tab can suggest a funtion, instance, keyword etc for you\n",
    "\n"
   ]
  },
  {
   "cell_type": "code",
   "execution_count": 39,
   "id": "97083591",
   "metadata": {},
   "outputs": [
    {
     "name": "stdout",
     "output_type": "stream",
     "text": [
      "Feyi,28\n"
     ]
    }
   ],
   "source": [
    "print (name, age, sep=',')"
   ]
  },
  {
   "cell_type": "code",
   "execution_count": 40,
   "id": "90d14be2",
   "metadata": {},
   "outputs": [
    {
     "name": "stdout",
     "output_type": "stream",
     "text": [
      "Feyi---------28\n"
     ]
    }
   ],
   "source": [
    "print (name, age, sep='---------')"
   ]
  },
  {
   "cell_type": "code",
   "execution_count": 41,
   "id": "fd2b1011",
   "metadata": {},
   "outputs": [],
   "source": [
    "#Using end Parameter : This defines what to put at the end of the line (default is /n)."
   ]
  },
  {
   "cell_type": "code",
   "execution_count": 27,
   "id": "b5c280d4",
   "metadata": {},
   "outputs": [
    {
     "name": "stdout",
     "output_type": "stream",
     "text": [
      "Feyi\n",
      "28\n",
      "python class\n"
     ]
    }
   ],
   "source": [
    "print (name, end='\\n')\n",
    "print(age, end='\\n')\n",
    "print(my_class, end='\\n')"
   ]
  },
  {
   "cell_type": "markdown",
   "id": "8badf20a",
   "metadata": {},
   "source": [
    "##### Built in Data Types\n",
    "a. Numbers  numeric data types e.g\n",
    "integers:  (whole nos, it can be +ve or -neg, no d.p ) no limit on size (Python support arbitrary no)\n",
    "floats :(nos with scientific notations 3.14, -0.001, 2.5e3\n",
    "Complex no : nos with a real & imaginery no e.g 3+4j, -2.5+6.1j\n",
    "Python supports complex no in the foarm a +bj a is the real part, b is the imagery part, the imagenary is represented by j in python not i\n",
    "b. Strings / Text type / Object\n",
    "c. [ List\n",
    "d. Range\n",
    "e. Turple] Squence\n",
    "f.Dictionaries (Mapping)\n",
    "g. Set (set and frozen set)\n",
    "g. Other types\n",
    "\n",
    "Casting is done to specify the data type of a variable using the type () function"
   ]
  },
  {
   "cell_type": "code",
   "execution_count": 43,
   "id": "a7d7f85b",
   "metadata": {},
   "outputs": [],
   "source": [
    "x = 4"
   ]
  },
  {
   "cell_type": "code",
   "execution_count": 44,
   "id": "0c3260ab",
   "metadata": {},
   "outputs": [
    {
     "data": {
      "text/plain": [
       "int"
      ]
     },
     "execution_count": 44,
     "metadata": {},
     "output_type": "execute_result"
    }
   ],
   "source": [
    "type (x) #type to check the data type of variable x"
   ]
  },
  {
   "cell_type": "code",
   "execution_count": 45,
   "id": "44fabf5c",
   "metadata": {},
   "outputs": [
    {
     "data": {
      "text/plain": [
       "int"
      ]
     },
     "execution_count": 45,
     "metadata": {},
     "output_type": "execute_result"
    }
   ],
   "source": [
    "type(-20)"
   ]
  },
  {
   "cell_type": "code",
   "execution_count": 46,
   "id": "24d8070c",
   "metadata": {},
   "outputs": [
    {
     "data": {
      "text/plain": [
       "int"
      ]
     },
     "execution_count": 46,
     "metadata": {},
     "output_type": "execute_result"
    }
   ],
   "source": [
    "type (23456789)"
   ]
  },
  {
   "cell_type": "code",
   "execution_count": 47,
   "id": "93fe2272",
   "metadata": {},
   "outputs": [
    {
     "data": {
      "text/plain": [
       "float"
      ]
     },
     "execution_count": 47,
     "metadata": {},
     "output_type": "execute_result"
    }
   ],
   "source": [
    "type (2.)#the mere addition of point makes it a float"
   ]
  },
  {
   "cell_type": "code",
   "execution_count": 48,
   "id": "a6600999",
   "metadata": {},
   "outputs": [
    {
     "data": {
      "text/plain": [
       "complex"
      ]
     },
     "execution_count": 48,
     "metadata": {},
     "output_type": "execute_result"
    }
   ],
   "source": [
    "type (2+3j)"
   ]
  },
  {
   "cell_type": "markdown",
   "id": "8ae53ba6",
   "metadata": {},
   "source": [
    "###### Addition\n",
    "Multipliction\n",
    "Divition\n",
    "Floor divition 10//3 whole part of a division\n",
    "Modulous means the remainder of a division using %\n",
    "Exponentiation : means a value in multiple places use **"
   ]
  },
  {
   "cell_type": "markdown",
   "id": "e95ab7bf",
   "metadata": {},
   "source": [
    "10+3, 10-3, 10/2 , 10/3"
   ]
  },
  {
   "cell_type": "code",
   "execution_count": 49,
   "id": "7d1fde9e",
   "metadata": {},
   "outputs": [
    {
     "data": {
      "text/plain": [
       "13"
      ]
     },
     "execution_count": 49,
     "metadata": {},
     "output_type": "execute_result"
    }
   ],
   "source": [
    "10+3"
   ]
  },
  {
   "cell_type": "code",
   "execution_count": 50,
   "id": "5f40c307",
   "metadata": {},
   "outputs": [
    {
     "data": {
      "text/plain": [
       "7"
      ]
     },
     "execution_count": 50,
     "metadata": {},
     "output_type": "execute_result"
    }
   ],
   "source": [
    "10-3"
   ]
  },
  {
   "cell_type": "code",
   "execution_count": 51,
   "id": "1233a2db",
   "metadata": {},
   "outputs": [
    {
     "data": {
      "text/plain": [
       "3.3333333333333335"
      ]
     },
     "execution_count": 51,
     "metadata": {},
     "output_type": "execute_result"
    }
   ],
   "source": [
    " 10/3"
   ]
  },
  {
   "cell_type": "code",
   "execution_count": 52,
   "id": "d404b056",
   "metadata": {},
   "outputs": [
    {
     "data": {
      "text/plain": [
       "3"
      ]
     },
     "execution_count": 52,
     "metadata": {},
     "output_type": "execute_result"
    }
   ],
   "source": [
    "#FLOOR DIVISION- means I need just the  Whole part of decimal no just by using //\n",
    "10//3"
   ]
  },
  {
   "cell_type": "code",
   "execution_count": 53,
   "id": "8b739967",
   "metadata": {},
   "outputs": [
    {
     "data": {
      "text/plain": [
       "4"
      ]
     },
     "execution_count": 53,
     "metadata": {},
     "output_type": "execute_result"
    }
   ],
   "source": [
    "25//6"
   ]
  },
  {
   "cell_type": "code",
   "execution_count": 54,
   "id": "3ee326e9",
   "metadata": {},
   "outputs": [
    {
     "data": {
      "text/plain": [
       "1"
      ]
     },
     "execution_count": 54,
     "metadata": {},
     "output_type": "execute_result"
    }
   ],
   "source": [
    "#Modulous--- remainder \n",
    "10 % 3"
   ]
  },
  {
   "cell_type": "code",
   "execution_count": 55,
   "id": "902d339e",
   "metadata": {},
   "outputs": [
    {
     "data": {
      "text/plain": [
       "2"
      ]
     },
     "execution_count": 55,
     "metadata": {},
     "output_type": "execute_result"
    }
   ],
   "source": [
    "11 % 3"
   ]
  },
  {
   "cell_type": "code",
   "execution_count": 56,
   "id": "0cc30fd1",
   "metadata": {},
   "outputs": [
    {
     "data": {
      "text/plain": [
       "0"
      ]
     },
     "execution_count": 56,
     "metadata": {},
     "output_type": "execute_result"
    }
   ],
   "source": [
    "10 % 2 "
   ]
  },
  {
   "cell_type": "code",
   "execution_count": 57,
   "id": "9ddb5262",
   "metadata": {},
   "outputs": [
    {
     "data": {
      "text/plain": [
       "8"
      ]
     },
     "execution_count": 57,
     "metadata": {},
     "output_type": "execute_result"
    }
   ],
   "source": [
    "#exponential  use **\n",
    "2 ** 3 # 2 * 2 * 2"
   ]
  },
  {
   "cell_type": "markdown",
   "id": "d65aa44d",
   "metadata": {},
   "source": [
    "###### Buit-in Numeric Funtions \n",
    "1. abs (x) absoute value  abs -5 -----(+5)\n",
    "2. round : rounding off to  a decimal place \n",
    "3. pow same as exponential\n",
    "4. max maximum value of a variable"
   ]
  },
  {
   "cell_type": "code",
   "execution_count": 58,
   "id": "fc99b47e",
   "metadata": {},
   "outputs": [],
   "source": [
    "num = -15.7888906"
   ]
  },
  {
   "cell_type": "code",
   "execution_count": 59,
   "id": "5ec8a11d",
   "metadata": {},
   "outputs": [
    {
     "data": {
      "text/plain": [
       "15.7888906"
      ]
     },
     "execution_count": 59,
     "metadata": {},
     "output_type": "execute_result"
    }
   ],
   "source": [
    "abs (num)"
   ]
  },
  {
   "cell_type": "code",
   "execution_count": 60,
   "id": "2ff7e993",
   "metadata": {},
   "outputs": [
    {
     "data": {
      "text/plain": [
       "-15.8"
      ]
     },
     "execution_count": 60,
     "metadata": {},
     "output_type": "execute_result"
    }
   ],
   "source": [
    "round (num, 1)"
   ]
  },
  {
   "cell_type": "code",
   "execution_count": 61,
   "id": "a601f96a",
   "metadata": {},
   "outputs": [
    {
     "data": {
      "text/plain": [
       "8"
      ]
     },
     "execution_count": 61,
     "metadata": {},
     "output_type": "execute_result"
    }
   ],
   "source": [
    "pow (2,3)"
   ]
  },
  {
   "cell_type": "code",
   "execution_count": 62,
   "id": "a2d0bd20",
   "metadata": {},
   "outputs": [],
   "source": [
    "x = (2,3,4,5,6,7,8,9)"
   ]
  },
  {
   "cell_type": "code",
   "execution_count": 63,
   "id": "d2b6baa6",
   "metadata": {},
   "outputs": [
    {
     "data": {
      "text/plain": [
       "(9, 2)"
      ]
     },
     "execution_count": 63,
     "metadata": {},
     "output_type": "execute_result"
    }
   ],
   "source": [
    "max (x) , min (x)"
   ]
  },
  {
   "cell_type": "code",
   "execution_count": 64,
   "id": "de3196ec",
   "metadata": {},
   "outputs": [],
   "source": [
    "# Type Conversion Between Numbers \n",
    "x = 3.13"
   ]
  },
  {
   "cell_type": "code",
   "execution_count": 65,
   "id": "18c8beb9",
   "metadata": {},
   "outputs": [
    {
     "data": {
      "text/plain": [
       "3"
      ]
     },
     "execution_count": 65,
     "metadata": {},
     "output_type": "execute_result"
    }
   ],
   "source": [
    "int (x)"
   ]
  },
  {
   "cell_type": "code",
   "execution_count": 66,
   "id": "02f1016b",
   "metadata": {},
   "outputs": [],
   "source": [
    "#String\n",
    "name = \"Feyi\""
   ]
  },
  {
   "cell_type": "code",
   "execution_count": 67,
   "id": "3569dfda",
   "metadata": {},
   "outputs": [
    {
     "data": {
      "text/plain": [
       "str"
      ]
     },
     "execution_count": 67,
     "metadata": {},
     "output_type": "execute_result"
    }
   ],
   "source": [
    "type (name)\n"
   ]
  },
  {
   "cell_type": "code",
   "execution_count": 68,
   "id": "08a1b129",
   "metadata": {},
   "outputs": [],
   "source": [
    "greeting = \"Hello world\""
   ]
  },
  {
   "cell_type": "code",
   "execution_count": 69,
   "id": "54574cc4",
   "metadata": {},
   "outputs": [
    {
     "data": {
      "text/plain": [
       "str"
      ]
     },
     "execution_count": 69,
     "metadata": {},
     "output_type": "execute_result"
    }
   ],
   "source": [
    "type (greeting)"
   ]
  },
  {
   "cell_type": "code",
   "execution_count": 70,
   "id": "1a2496bf",
   "metadata": {},
   "outputs": [],
   "source": [
    "sentence = '''Today is Wednesday, and\n",
    "I'm happy just because it's almost weekend \n",
    "2 datys more to rest and party'''\n",
    "#by using tripple quotes or tripple double quotes I can write more than one line in a variable"
   ]
  },
  {
   "cell_type": "code",
   "execution_count": 71,
   "id": "53e07e75",
   "metadata": {},
   "outputs": [
    {
     "data": {
      "text/plain": [
       "\"Today is Wednesday, and\\nI'm happy just because it's almost weekend \\n2 datys more to rest and party\""
      ]
     },
     "execution_count": 71,
     "metadata": {},
     "output_type": "execute_result"
    }
   ],
   "source": [
    "sentence"
   ]
  },
  {
   "cell_type": "markdown",
   "id": "d813d7da",
   "metadata": {},
   "source": [
    "###### String Indexing and Slicing\n",
    "String Indexing : each character has an index starting from 0. \n",
    "Negatives index count from the end from -1, "
   ]
  },
  {
   "cell_type": "code",
   "execution_count": 73,
   "id": "14218146",
   "metadata": {},
   "outputs": [],
   "source": [
    "text = 'Hello'"
   ]
  },
  {
   "cell_type": "code",
   "execution_count": 74,
   "id": "b234e6aa",
   "metadata": {},
   "outputs": [
    {
     "data": {
      "text/plain": [
       "'H'"
      ]
     },
     "execution_count": 74,
     "metadata": {},
     "output_type": "execute_result"
    }
   ],
   "source": [
    "text [0]"
   ]
  },
  {
   "cell_type": "code",
   "execution_count": 75,
   "id": "e48914a0",
   "metadata": {},
   "outputs": [
    {
     "data": {
      "text/plain": [
       "'o'"
      ]
     },
     "execution_count": 75,
     "metadata": {},
     "output_type": "execute_result"
    }
   ],
   "source": [
    "text [-1]"
   ]
  },
  {
   "cell_type": "code",
   "execution_count": 78,
   "id": "7b6a9502",
   "metadata": {},
   "outputs": [],
   "source": [
    "#String Method\n",
    "text = 'Hello dear, I love your eyE becAuse   It is KEEN to information'"
   ]
  },
  {
   "cell_type": "code",
   "execution_count": 79,
   "id": "2cb61bbd",
   "metadata": {},
   "outputs": [
    {
     "data": {
      "text/plain": [
       "'Hello dear, I love your eyE becAuse   It is KEEN to information'"
      ]
     },
     "execution_count": 79,
     "metadata": {},
     "output_type": "execute_result"
    }
   ],
   "source": [
    "text "
   ]
  },
  {
   "cell_type": "code",
   "execution_count": 80,
   "id": "845d6577",
   "metadata": {},
   "outputs": [
    {
     "data": {
      "text/plain": [
       "'hello dear, i love your eye because   it is keen to information'"
      ]
     },
     "execution_count": 80,
     "metadata": {},
     "output_type": "execute_result"
    }
   ],
   "source": [
    "text.lower () #to change to small letters"
   ]
  },
  {
   "cell_type": "code",
   "execution_count": 81,
   "id": "d87cb376",
   "metadata": {},
   "outputs": [
    {
     "data": {
      "text/plain": [
       "'HELLO DEAR, I LOVE YOUR EYE BECAUSE   IT IS KEEN TO INFORMATION'"
      ]
     },
     "execution_count": 81,
     "metadata": {},
     "output_type": "execute_result"
    }
   ],
   "source": [
    "text.upper ()"
   ]
  },
  {
   "cell_type": "code",
   "execution_count": 82,
   "id": "eb0a22ba",
   "metadata": {},
   "outputs": [
    {
     "data": {
      "text/plain": [
       "'Hello dear, I love your eyE becAuse   It is KEEN to information'"
      ]
     },
     "execution_count": 82,
     "metadata": {},
     "output_type": "execute_result"
    }
   ],
   "source": [
    "#strip ---- to remove excess spaces\n",
    "text.strip () #I lost internet here for about 12 minutes"
   ]
  },
  {
   "cell_type": "markdown",
   "id": "d8a4a0d1",
   "metadata": {},
   "source": [
    "######  String Concatenation (Joining Strings)\n",
    "Only works for stings, you cant't mix data types. \n",
    "Use + to join strings \n",
    "Use.join() for joining multiple strings in a list. "
   ]
  },
  {
   "cell_type": "code",
   "execution_count": 29,
   "id": "93dff1f1",
   "metadata": {},
   "outputs": [
    {
     "data": {
      "text/plain": [
       "'FeyiAyeni'"
      ]
     },
     "execution_count": 29,
     "metadata": {},
     "output_type": "execute_result"
    }
   ],
   "source": [
    "name = \"Feyi\"\n",
    "surname = \"Ayeni\"\n",
    "name + surname "
   ]
  },
  {
   "cell_type": "code",
   "execution_count": 30,
   "id": "378ead7f",
   "metadata": {},
   "outputs": [
    {
     "name": "stdout",
     "output_type": "stream",
     "text": [
      "Feyi Ayeni\n"
     ]
    }
   ],
   "source": [
    "print(name + ' ' + surname)"
   ]
  },
  {
   "cell_type": "code",
   "execution_count": 84,
   "id": "2f334464",
   "metadata": {},
   "outputs": [
    {
     "data": {
      "text/plain": [
       "'Feyi Ayeni'"
      ]
     },
     "execution_count": 84,
     "metadata": {},
     "output_type": "execute_result"
    }
   ],
   "source": [
    "#to add space \n",
    "name + \" \" + surname "
   ]
  },
  {
   "cell_type": "code",
   "execution_count": 86,
   "id": "3bea49af",
   "metadata": {},
   "outputs": [
    {
     "data": {
      "text/plain": [
       "'FeyiFeyi'"
      ]
     },
     "execution_count": 86,
     "metadata": {},
     "output_type": "execute_result"
    }
   ],
   "source": [
    "# String Repetition \n",
    "# use * to repeat a string multiple times \n",
    "name * 2"
   ]
  },
  {
   "cell_type": "code",
   "execution_count": 100,
   "id": "47f51971",
   "metadata": {},
   "outputs": [
    {
     "data": {
      "text/plain": [
       "'Feyi      '"
      ]
     },
     "execution_count": 100,
     "metadata": {},
     "output_type": "execute_result"
    }
   ],
   "source": [
    "name  +\"  \" * 3"
   ]
  },
  {
   "cell_type": "code",
   "execution_count": 92,
   "id": "d3270a17",
   "metadata": {},
   "outputs": [
    {
     "data": {
      "text/plain": [
       "'I like Mango'"
      ]
     },
     "execution_count": 92,
     "metadata": {},
     "output_type": "execute_result"
    }
   ],
   "source": [
    "#Replace Substrings \n",
    "text = \"I love Mango\" \n",
    "new_text = text.replace ('love', 'like')\n",
    "new_text"
   ]
  },
  {
   "cell_type": "code",
   "execution_count": 106,
   "id": "adda335c",
   "metadata": {},
   "outputs": [
    {
     "data": {
      "text/plain": [
       "'I love Mango'"
      ]
     },
     "execution_count": 106,
     "metadata": {},
     "output_type": "execute_result"
    }
   ],
   "source": [
    "#Splitting and Joining Strings \n",
    "words = text.split ()\n",
    "text\n",
    "#words is just a variable which can be anything to store the new splited var-text"
   ]
  },
  {
   "cell_type": "code",
   "execution_count": 107,
   "id": "f8dbd957",
   "metadata": {},
   "outputs": [
    {
     "data": {
      "text/plain": [
       "['I', 'love', 'Mango']"
      ]
     },
     "execution_count": 107,
     "metadata": {},
     "output_type": "execute_result"
    }
   ],
   "source": [
    "words "
   ]
  },
  {
   "cell_type": "code",
   "execution_count": 95,
   "id": "6c61730f",
   "metadata": {},
   "outputs": [],
   "source": [
    "# to bring it together , use join \n",
    "new_text = \"-\" .join(words)"
   ]
  },
  {
   "cell_type": "code",
   "execution_count": 108,
   "id": "a1c6faf7",
   "metadata": {},
   "outputs": [
    {
     "data": {
      "text/plain": [
       "'I-love-Mango'"
      ]
     },
     "execution_count": 108,
     "metadata": {},
     "output_type": "execute_result"
    }
   ],
   "source": [
    "new_text"
   ]
  },
  {
   "cell_type": "markdown",
   "id": "0bd74f03",
   "metadata": {},
   "source": [
    "###### Finding and Counting Substrings"
   ]
  },
  {
   "cell_type": "code",
   "execution_count": 109,
   "id": "5d1be45d",
   "metadata": {},
   "outputs": [
    {
     "data": {
      "text/plain": [
       "2"
      ]
     },
     "execution_count": 109,
     "metadata": {},
     "output_type": "execute_result"
    }
   ],
   "source": [
    "text.find ('love')"
   ]
  },
  {
   "cell_type": "code",
   "execution_count": 110,
   "id": "cf207f06",
   "metadata": {},
   "outputs": [
    {
     "data": {
      "text/plain": [
       "7"
      ]
     },
     "execution_count": 110,
     "metadata": {},
     "output_type": "execute_result"
    }
   ],
   "source": [
    "text.find ('Mango')"
   ]
  },
  {
   "cell_type": "code",
   "execution_count": 111,
   "id": "e2a0edd8",
   "metadata": {},
   "outputs": [
    {
     "data": {
      "text/plain": [
       "1"
      ]
     },
     "execution_count": 111,
     "metadata": {},
     "output_type": "execute_result"
    }
   ],
   "source": [
    "text.count ('M')"
   ]
  },
  {
   "cell_type": "code",
   "execution_count": 114,
   "id": "ab63a60e",
   "metadata": {},
   "outputs": [
    {
     "data": {
      "text/plain": [
       "False"
      ]
     },
     "execution_count": 114,
     "metadata": {},
     "output_type": "execute_result"
    }
   ],
   "source": [
    "#Checking String Properties \n",
    "name = \"Feyi\"\n",
    "age = '25'\n",
    "name.isdigit()"
   ]
  },
  {
   "cell_type": "code",
   "execution_count": 115,
   "id": "e22ea0c5",
   "metadata": {},
   "outputs": [
    {
     "data": {
      "text/plain": [
       "True"
      ]
     },
     "execution_count": 115,
     "metadata": {},
     "output_type": "execute_result"
    }
   ],
   "source": [
    "age.isdigit()"
   ]
  },
  {
   "cell_type": "code",
   "execution_count": null,
   "id": "4447f33b",
   "metadata": {},
   "outputs": [],
   "source": []
  },
  {
   "cell_type": "markdown",
   "id": "8490e0b0",
   "metadata": {},
   "source": [
    "######  19/04/2025 LIST and TUPLES"
   ]
  },
  {
   "cell_type": "code",
   "execution_count": null,
   "id": "c39b9a54",
   "metadata": {},
   "outputs": [],
   "source": []
  },
  {
   "cell_type": "markdown",
   "id": "3928847c",
   "metadata": {},
   "source": [
    "######  14/04/2025   TUPLE IMMUTABILITY\n",
    "A tuple cannot be changed once created, if you need to edit a tuple, you can convert the tuple to a list, make ur edit and convert back to list\n"
   ]
  },
  {
   "cell_type": "code",
   "execution_count": 41,
   "id": "8df219e1",
   "metadata": {},
   "outputs": [],
   "source": [
    "Language = ('python', 'java', 'C++', 'R')"
   ]
  },
  {
   "cell_type": "code",
   "execution_count": 42,
   "id": "cc6a497f",
   "metadata": {},
   "outputs": [],
   "source": [
    "x = list (Language)"
   ]
  },
  {
   "cell_type": "code",
   "execution_count": 43,
   "id": "76891c4f",
   "metadata": {},
   "outputs": [
    {
     "data": {
      "text/plain": [
       "['python', 'java', 'C++', 'R']"
      ]
     },
     "execution_count": 43,
     "metadata": {},
     "output_type": "execute_result"
    }
   ],
   "source": [
    "x"
   ]
  },
  {
   "cell_type": "code",
   "execution_count": 44,
   "id": "ea39d376",
   "metadata": {},
   "outputs": [
    {
     "data": {
      "text/plain": [
       "['python', 'java', 'C++', 'R', 'Fortran']"
      ]
     },
     "execution_count": 44,
     "metadata": {},
     "output_type": "execute_result"
    }
   ],
   "source": [
    "x.append('Fortran') #NOTE NO SPACE BTW APPEND & Fortran\n",
    "x"
   ]
  },
  {
   "cell_type": "code",
   "execution_count": 46,
   "id": "47cde0a7",
   "metadata": {},
   "outputs": [
    {
     "ename": "SyntaxError",
     "evalue": "invalid syntax (4178461174.py, line 2)",
     "output_type": "error",
     "traceback": [
      "\u001b[1;36m  File \u001b[1;32m\"C:\\Users\\AYENI Feyisayo\\AppData\\Local\\Temp\\ipykernel_15500\\4178461174.py\"\u001b[1;36m, line \u001b[1;32m2\u001b[0m\n\u001b[1;33m    Language = x tuple(x)\u001b[0m\n\u001b[1;37m                 ^\u001b[0m\n\u001b[1;31mSyntaxError\u001b[0m\u001b[1;31m:\u001b[0m invalid syntax\n"
     ]
    }
   ],
   "source": [
    "#connvert back to turple\n",
    "Language = x tuple(x)"
   ]
  },
  {
   "cell_type": "code",
   "execution_count": 14,
   "id": "412b3be9",
   "metadata": {},
   "outputs": [],
   "source": [
    "numbers = (1, 2, 2, 2, 3, 4, 4, 2, 6 )"
   ]
  },
  {
   "cell_type": "code",
   "execution_count": 15,
   "id": "938fb373",
   "metadata": {},
   "outputs": [
    {
     "data": {
      "text/plain": [
       "4"
      ]
     },
     "execution_count": 15,
     "metadata": {},
     "output_type": "execute_result"
    }
   ],
   "source": [
    "numbers.count (2)"
   ]
  },
  {
   "cell_type": "code",
   "execution_count": 16,
   "id": "03e00456",
   "metadata": {},
   "outputs": [
    {
     "data": {
      "text/plain": [
       "5"
      ]
     },
     "execution_count": 16,
     "metadata": {},
     "output_type": "execute_result"
    }
   ],
   "source": [
    "numbers.index(4)"
   ]
  },
  {
   "cell_type": "code",
   "execution_count": 9,
   "id": "9833ca1a",
   "metadata": {},
   "outputs": [],
   "source": [
    "#Tuple Packing: Means storing multiple values in a single tuple\n",
    "profession = ('Engineer', 'Doctor', 'Teacher')"
   ]
  },
  {
   "cell_type": "code",
   "execution_count": 18,
   "id": "a2c24708",
   "metadata": {},
   "outputs": [],
   "source": [
    "# Tuple unpacking \n",
    "x, y, z = profession"
   ]
  },
  {
   "cell_type": "code",
   "execution_count": 19,
   "id": "5fd048d8",
   "metadata": {},
   "outputs": [
    {
     "data": {
      "text/plain": [
       "'Teacher'"
      ]
     },
     "execution_count": 19,
     "metadata": {},
     "output_type": "execute_result"
    }
   ],
   "source": [
    "z"
   ]
  },
  {
   "cell_type": "markdown",
   "id": "66e5c5e2",
   "metadata": {},
   "source": [
    "######  SETS : \n",
    "Set is a collection of unique, unordered elements\n",
    "1. No duplicate elements\n",
    "2. unordered (no indexing, slicing like lisrs and tuples)\n",
    "3. Mutable. Can be changed after creation \n",
    "4. uses curly brackes {} or set ()"
   ]
  },
  {
   "cell_type": "code",
   "execution_count": 20,
   "id": "00eb1d91",
   "metadata": {},
   "outputs": [],
   "source": [
    "fruits = {'apple', 'apple', 'banana', 'cherry'}"
   ]
  },
  {
   "cell_type": "code",
   "execution_count": 21,
   "id": "99a05ba9",
   "metadata": {},
   "outputs": [
    {
     "data": {
      "text/plain": [
       "{'apple', 'banana', 'cherry'}"
      ]
     },
     "execution_count": 21,
     "metadata": {},
     "output_type": "execute_result"
    }
   ],
   "source": [
    "fruits #no repetition "
   ]
  },
  {
   "cell_type": "code",
   "execution_count": null,
   "id": "bad36f7e",
   "metadata": {},
   "outputs": [],
   "source": [
    "# Using the set constructor"
   ]
  },
  {
   "cell_type": "code",
   "execution_count": 23,
   "id": "735e7f09",
   "metadata": {},
   "outputs": [],
   "source": [
    "x = {1, 2, 2, 3, 4, 5}"
   ]
  },
  {
   "cell_type": "code",
   "execution_count": 24,
   "id": "0c7c5e3c",
   "metadata": {},
   "outputs": [
    {
     "data": {
      "text/plain": [
       "{1, 2, 3, 4, 5}"
      ]
     },
     "execution_count": 24,
     "metadata": {},
     "output_type": "execute_result"
    }
   ],
   "source": [
    "set (x)"
   ]
  },
  {
   "cell_type": "code",
   "execution_count": null,
   "id": "b3f243b6",
   "metadata": {},
   "outputs": [],
   "source": [
    "#Removing Element in a set      (remove, discard, pop)"
   ]
  },
  {
   "cell_type": "code",
   "execution_count": 25,
   "id": "96e2da9b",
   "metadata": {},
   "outputs": [
    {
     "data": {
      "text/plain": [
       "{'apple', 'banana', 'cherry'}"
      ]
     },
     "execution_count": 25,
     "metadata": {},
     "output_type": "execute_result"
    }
   ],
   "source": [
    "fruits"
   ]
  },
  {
   "cell_type": "code",
   "execution_count": 28,
   "id": "c980041f",
   "metadata": {},
   "outputs": [
    {
     "ename": "KeyError",
     "evalue": "'apple'",
     "output_type": "error",
     "traceback": [
      "\u001b[1;31m---------------------------------------------------------------------------\u001b[0m",
      "\u001b[1;31mKeyError\u001b[0m                                  Traceback (most recent call last)",
      "\u001b[1;32m~\\AppData\\Local\\Temp\\ipykernel_15500\\1554097105.py\u001b[0m in \u001b[0;36m<module>\u001b[1;34m\u001b[0m\n\u001b[1;32m----> 1\u001b[1;33m \u001b[0mfruits\u001b[0m\u001b[1;33m.\u001b[0m\u001b[0mremove\u001b[0m \u001b[1;33m(\u001b[0m\u001b[1;34m'apple'\u001b[0m\u001b[1;33m)\u001b[0m\u001b[1;33m\u001b[0m\u001b[1;33m\u001b[0m\u001b[0m\n\u001b[0m",
      "\u001b[1;31mKeyError\u001b[0m: 'apple'"
     ]
    }
   ],
   "source": [
    "fruits.remove ('apple') #.remove doesn't work for set compared to .discard and ,pop"
   ]
  },
  {
   "cell_type": "code",
   "execution_count": 29,
   "id": "f9e65c92",
   "metadata": {},
   "outputs": [],
   "source": [
    "fruits.discard ('apple')"
   ]
  },
  {
   "cell_type": "code",
   "execution_count": 30,
   "id": "f4b85496",
   "metadata": {},
   "outputs": [
    {
     "data": {
      "text/plain": [
       "{'banana', 'cherry'}"
      ]
     },
     "execution_count": 30,
     "metadata": {},
     "output_type": "execute_result"
    }
   ],
   "source": [
    "fruits"
   ]
  },
  {
   "cell_type": "code",
   "execution_count": 31,
   "id": "ba17e9be",
   "metadata": {},
   "outputs": [
    {
     "data": {
      "text/plain": [
       "'banana'"
      ]
     },
     "execution_count": 31,
     "metadata": {},
     "output_type": "execute_result"
    }
   ],
   "source": [
    "fruits.pop ()"
   ]
  },
  {
   "cell_type": "markdown",
   "id": "43636ee1",
   "metadata": {},
   "source": [
    "######  Dictionaries \n",
    "it works just like our dictionary in sch. The word you are searching is at te left hand side called *key* which might have different meanings, the different meanings are called *values*. You store information with curly bracket.  "
   ]
  },
  {
   "cell_type": "code",
   "execution_count": 32,
   "id": "c16f7919",
   "metadata": {},
   "outputs": [],
   "source": [
    "student = {\n",
    "    'name' : 'Feyi',\n",
    "    'age':   25,\n",
    "    'GPA' : 4.2\n",
    "}"
   ]
  },
  {
   "cell_type": "code",
   "execution_count": 33,
   "id": "1c225a7d",
   "metadata": {},
   "outputs": [
    {
     "data": {
      "text/plain": [
       "{'name': 'Feyi', 'age': 25, 'GPA': 4.2}"
      ]
     },
     "execution_count": 33,
     "metadata": {},
     "output_type": "execute_result"
    }
   ],
   "source": [
    "student"
   ]
  },
  {
   "cell_type": "code",
   "execution_count": 34,
   "id": "f430d485",
   "metadata": {},
   "outputs": [
    {
     "data": {
      "text/plain": [
       "dict_keys(['name', 'age', 'GPA'])"
      ]
     },
     "execution_count": 34,
     "metadata": {},
     "output_type": "execute_result"
    }
   ],
   "source": [
    "student.keys ()"
   ]
  },
  {
   "cell_type": "code",
   "execution_count": 35,
   "id": "e4a6445d",
   "metadata": {},
   "outputs": [
    {
     "data": {
      "text/plain": [
       "dict_values(['Feyi', 25, 4.2])"
      ]
     },
     "execution_count": 35,
     "metadata": {},
     "output_type": "execute_result"
    }
   ],
   "source": [
    "student.values()"
   ]
  },
  {
   "cell_type": "code",
   "execution_count": 61,
   "id": "8d965692",
   "metadata": {},
   "outputs": [
    {
     "data": {
      "text/plain": [
       "dict_items([('name', 'Feyi'), ('age', 25), ('GPA', 4.2)])"
      ]
     },
     "execution_count": 61,
     "metadata": {},
     "output_type": "execute_result"
    }
   ],
   "source": [
    "student.items()"
   ]
  },
  {
   "cell_type": "code",
   "execution_count": 64,
   "id": "b594985c",
   "metadata": {},
   "outputs": [],
   "source": [
    "students = {\n",
    "    'name' : ['Feyi', 'Sayo', 'Helen'],\n",
    "    'age': [25, 23, 26],\n",
    "    'GPA' : [4.2, 4.4, 4.5]\n",
    "}"
   ]
  },
  {
   "cell_type": "code",
   "execution_count": 65,
   "id": "12672f78",
   "metadata": {},
   "outputs": [
    {
     "data": {
      "text/plain": [
       "dict_values(['Feyi', 25, 4.2])"
      ]
     },
     "execution_count": 65,
     "metadata": {},
     "output_type": "execute_result"
    }
   ],
   "source": [
    "student.values()"
   ]
  },
  {
   "cell_type": "code",
   "execution_count": 63,
   "id": "c9246e0e",
   "metadata": {},
   "outputs": [
    {
     "data": {
      "text/plain": [
       "dict_values(['Feyi', 25, 4.2])"
      ]
     },
     "execution_count": 63,
     "metadata": {},
     "output_type": "execute_result"
    }
   ],
   "source": [
    "student.values()"
   ]
  },
  {
   "cell_type": "code",
   "execution_count": null,
   "id": "e6b56b45",
   "metadata": {},
   "outputs": [],
   "source": [
    "import pandas as pd\n",
    "df= pd.DataFrame (students)\n",
    "df"
   ]
  },
  {
   "cell_type": "code",
   "execution_count": 66,
   "id": "c1487d92",
   "metadata": {},
   "outputs": [],
   "source": [
    "students = {\n",
    "    'name' : ['Feyi', 'Sayo', 'Helen'],\n",
    "    'age': [25, 23, 26],\n",
    "    'GPA' : [4.2, 4.4, 4.5]\n",
    "}\n",
    "#NOTE: put comma after eack key,"
   ]
  },
  {
   "cell_type": "code",
   "execution_count": 68,
   "id": "5980a610",
   "metadata": {},
   "outputs": [
    {
     "data": {
      "text/html": [
       "<div>\n",
       "<style scoped>\n",
       "    .dataframe tbody tr th:only-of-type {\n",
       "        vertical-align: middle;\n",
       "    }\n",
       "\n",
       "    .dataframe tbody tr th {\n",
       "        vertical-align: top;\n",
       "    }\n",
       "\n",
       "    .dataframe thead th {\n",
       "        text-align: right;\n",
       "    }\n",
       "</style>\n",
       "<table border=\"1\" class=\"dataframe\">\n",
       "  <thead>\n",
       "    <tr style=\"text-align: right;\">\n",
       "      <th></th>\n",
       "      <th>name</th>\n",
       "      <th>age</th>\n",
       "      <th>GPA</th>\n",
       "    </tr>\n",
       "  </thead>\n",
       "  <tbody>\n",
       "    <tr>\n",
       "      <th>0</th>\n",
       "      <td>Feyi</td>\n",
       "      <td>25</td>\n",
       "      <td>4.2</td>\n",
       "    </tr>\n",
       "    <tr>\n",
       "      <th>1</th>\n",
       "      <td>Sayo</td>\n",
       "      <td>23</td>\n",
       "      <td>4.4</td>\n",
       "    </tr>\n",
       "    <tr>\n",
       "      <th>2</th>\n",
       "      <td>Helen</td>\n",
       "      <td>26</td>\n",
       "      <td>4.5</td>\n",
       "    </tr>\n",
       "  </tbody>\n",
       "</table>\n",
       "</div>"
      ],
      "text/plain": [
       "    name  age  GPA\n",
       "0   Feyi   25  4.2\n",
       "1   Sayo   23  4.4\n",
       "2  Helen   26  4.5"
      ]
     },
     "execution_count": 68,
     "metadata": {},
     "output_type": "execute_result"
    }
   ],
   "source": [
    "import pandas as pd\n",
    "df= pd.DataFrame (students)\n",
    "df"
   ]
  },
  {
   "cell_type": "code",
   "execution_count": null,
   "id": "6c6bb4b0",
   "metadata": {},
   "outputs": [],
   "source": []
  },
  {
   "cell_type": "code",
   "execution_count": null,
   "id": "73f433b5",
   "metadata": {},
   "outputs": [],
   "source": []
  },
  {
   "cell_type": "code",
   "execution_count": null,
   "id": "a86466e9",
   "metadata": {},
   "outputs": [],
   "source": []
  },
  {
   "cell_type": "markdown",
   "id": "b0eb7c59",
   "metadata": {},
   "source": [
    "###### String Comprehensions"
   ]
  },
  {
   "cell_type": "markdown",
   "id": "dd28893f",
   "metadata": {},
   "source": [
    "###### PYTHON LOOPS\n",
    "Loop is something you do repeatedly. \n",
    "While loop repeatedly execute a code block while the condition remain true until it is false. You have to be careful whhile using while loop so as not to run into infenite loop where you wont be able to end the command until you close jupiter notebook. \n",
    "\n",
    "How it is done, \n",
    "1. Initialization : initialize \n",
    "2. Test condition if true or false (Body Loop/ Terminate) as the case applies. \n",
    "3. Increament/ Decrease : very important , to avoid infinite loop. \n",
    "example of when loop is used is in factorize : e.g 5*4*3*2*1 . "
   ]
  },
  {
   "cell_type": "markdown",
   "id": "ddfc0a3b",
   "metadata": {},
   "source": []
  },
  {
   "cell_type": "code",
   "execution_count": 1,
   "id": "c2ea64bd",
   "metadata": {},
   "outputs": [
    {
     "name": "stdout",
     "output_type": "stream",
     "text": [
      "counting my apple: 1\n",
      "counting my apple: 2\n",
      "counting my apple: 3\n",
      "counting my apple: 4\n",
      "counting my apple: 5\n",
      "counting my apple: 6\n",
      "counting my apple: 7\n",
      "counting my apple: 8\n",
      "counting my apple: 9\n",
      "counting my apple: 10\n"
     ]
    }
   ],
   "source": [
    "#print a number 1 to 10\n",
    "count = 1 # initialization\n",
    "while count <= 10: # this is the condition\n",
    "    print(f'counting my apple: {count}')\n",
    "    count = count + 1 #increament"
   ]
  },
  {
   "cell_type": "code",
   "execution_count": 3,
   "id": "36abaaed",
   "metadata": {},
   "outputs": [
    {
     "name": "stdout",
     "output_type": "stream",
     "text": [
      "The square of 0 is = 0\n",
      "The square of 1 is = 1\n",
      "The square of 2 is = 4\n",
      "The square of 3 is = 9\n",
      "The square of 4 is = 16\n",
      "The square of 5 is = 25\n",
      "The square of 6 is = 36\n",
      "The square of 7 is = 49\n",
      "The square of 8 is = 64\n",
      "The square of 9 is = 81\n",
      "The square of 10 is = 100\n"
     ]
    }
   ],
   "source": [
    "num = 0\n",
    "while num <= 10:\n",
    "    print(f'The square of {num} is = {num ** 2}')\n",
    "    num = num + 1"
   ]
  },
  {
   "cell_type": "code",
   "execution_count": 5,
   "id": "0cc9d14b",
   "metadata": {},
   "outputs": [
    {
     "name": "stdout",
     "output_type": "stream",
     "text": [
      "120\n"
     ]
    }
   ],
   "source": [
    "# factorial of a number\n",
    "# 6! = 6*5*4*3*2*1\n",
    "num = 5\n",
    "result = 1 # initialize\n",
    "while num >= 1:\n",
    "    result = result * num\n",
    "    num = num - 1\n",
    "print(result)"
   ]
  },
  {
   "cell_type": "code",
   "execution_count": 2,
   "id": "d5278ade",
   "metadata": {},
   "outputs": [
    {
     "name": "stdout",
     "output_type": "stream",
     "text": [
      "*\n",
      "**\n",
      "***\n",
      "****\n",
      "*****\n",
      "******\n",
      "*******\n",
      "********\n",
      "*********\n",
      "**********\n"
     ]
    }
   ],
   "source": [
    "# right angle\n",
    "line = '*'\n",
    "max_length = 10 \n",
    "while len (line) <= max_length:\n",
    "    print (line)\n",
    "    line = line + '*'"
   ]
  },
  {
   "cell_type": "code",
   "execution_count": 3,
   "id": "9fe156dd",
   "metadata": {},
   "outputs": [
    {
     "name": "stdout",
     "output_type": "stream",
     "text": [
      "*\n",
      "**\n",
      "***\n",
      "****\n",
      "*****\n",
      "******\n",
      "*******\n",
      "********\n",
      "*********\n",
      "**********\n",
      "***********\n",
      "**********\n",
      "*********\n",
      "********\n",
      "*******\n",
      "******\n",
      "*****\n",
      "****\n",
      "***\n",
      "**\n",
      "*\n"
     ]
    }
   ],
   "source": [
    "line = '*'\n",
    "max_length = 10 \n",
    "while len (line) <= max_length:\n",
    "    print (line)\n",
    "    line = line +'*' \n",
    "while len(line) > 0:\n",
    "    print(line)\n",
    "    line = line[:-1]"
   ]
  },
  {
   "cell_type": "code",
   "execution_count": null,
   "id": "d734fac2",
   "metadata": {},
   "outputs": [],
   "source": []
  },
  {
   "cell_type": "code",
   "execution_count": null,
   "id": "1ef9259c",
   "metadata": {},
   "outputs": [],
   "source": []
  }
 ],
 "metadata": {
  "kernelspec": {
   "display_name": "Python 3 (ipykernel)",
   "language": "python",
   "name": "python3"
  },
  "language_info": {
   "codemirror_mode": {
    "name": "ipython",
    "version": 3
   },
   "file_extension": ".py",
   "mimetype": "text/x-python",
   "name": "python",
   "nbconvert_exporter": "python",
   "pygments_lexer": "ipython3",
   "version": "3.9.13"
  }
 },
 "nbformat": 4,
 "nbformat_minor": 5
}
